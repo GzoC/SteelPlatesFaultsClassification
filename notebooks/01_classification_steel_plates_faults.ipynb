{
 "cells": [
  {
   "cell_type": "code",
   "execution_count": 2,
   "id": "de5b5e8e-7e68-4589-a567-c15a570dd5e5",
   "metadata": {},
   "outputs": [],
   "source": [
    "# =====================================================\n",
    "# CELDA 1: Importación de librerías\n",
    "# =====================================================\n",
    "import pandas as pd   # Librería para manejo de datos (tablas, CSV, etc.)\n",
    "import numpy as np    # Librería para operaciones numéricas\n",
    "import matplotlib.pyplot as plt  # Librería para gráficos básicos\n",
    "import seaborn as sns  # Librería para gráficos estadísticos\n",
    "from sklearn.model_selection import train_test_split  # Para dividir dataset en train/test\n",
    "from sklearn.preprocessing import StandardScaler      # Para escalar datos\n",
    "from sklearn.linear_model import LogisticRegression   # Modelo de regresión logística\n",
    "from sklearn.ensemble import RandomForestClassifier   # Modelo de Random Forest\n",
    "from sklearn.metrics import classification_report, confusion_matrix, accuracy_score  # Métricas\n",
    "\n",
    "# La siguiente línea permite ver las gráficas dentro del Notebook\n",
    "%matplotlib inline"
   ]
  },
  {
   "cell_type": "code",
   "execution_count": null,
   "id": "d0dd087c-34fb-45c0-953e-e99ce487e53e",
   "metadata": {},
   "outputs": [],
   "source": []
  }
 ],
 "metadata": {
  "kernelspec": {
   "display_name": "Python 3 (ipykernel)",
   "language": "python",
   "name": "python3"
  },
  "language_info": {
   "codemirror_mode": {
    "name": "ipython",
    "version": 3
   },
   "file_extension": ".py",
   "mimetype": "text/x-python",
   "name": "python",
   "nbconvert_exporter": "python",
   "pygments_lexer": "ipython3",
   "version": "3.9.21"
  }
 },
 "nbformat": 4,
 "nbformat_minor": 5
}
